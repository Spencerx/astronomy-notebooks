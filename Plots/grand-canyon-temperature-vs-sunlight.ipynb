{
 "cells": [
  {
   "cell_type": "code",
   "execution_count": 1,
   "id": "97b8f159",
   "metadata": {},
   "outputs": [
    {
     "name": "stdout",
     "output_type": "stream",
     "text": [
      "Populating the interactive namespace from numpy and matplotlib\n"
     ]
    }
   ],
   "source": [
    "%pylab inline\n",
    "import numpy as np\n",
    "import pandas as pd\n",
    "from math import tau, pi\n",
    "𝜏, 𝜋 = tau, pi\n",
    "pd.options.display.max_colwidth = 128\n",
    "pylab.rcParams['figure.figsize'] = 12, 5\n",
    "# d = pd.read_csv('...', parse_dates=['date'])\n",
    "# pd.to_datetime(d['timestamp'], unit='s')\n",
    "# with mpl.rc_context({\"figure.figsize\": (5, 5)}):\n",
    "# with mpl.rc_context({\"lines.linewidth\": 2, \"lines.color\": \"r\"}):\n",
    "# plt.legend(loc='center left', bbox_to_anchor=(1.1, 0.5))\n",
    "# ax.set_xlabel('x label')"
   ]
  },
  {
   "cell_type": "code",
   "execution_count": 80,
   "id": "90323ddd",
   "metadata": {},
   "outputs": [],
   "source": [
    "d = pd.read_csv('daylight.csv', parse_dates=['date'])"
   ]
  },
  {
   "cell_type": "code",
   "execution_count": 81,
   "id": "dd26c7ea",
   "metadata": {},
   "outputs": [
    {
     "data": {
      "text/html": [
       "<div>\n",
       "<style scoped>\n",
       "    .dataframe tbody tr th:only-of-type {\n",
       "        vertical-align: middle;\n",
       "    }\n",
       "\n",
       "    .dataframe tbody tr th {\n",
       "        vertical-align: top;\n",
       "    }\n",
       "\n",
       "    .dataframe thead th {\n",
       "        text-align: right;\n",
       "    }\n",
       "</style>\n",
       "<table border=\"1\" class=\"dataframe\">\n",
       "  <thead>\n",
       "    <tr style=\"text-align: right;\">\n",
       "      <th></th>\n",
       "      <th>date</th>\n",
       "      <th>hours_sunlight</th>\n",
       "    </tr>\n",
       "  </thead>\n",
       "  <tbody>\n",
       "    <tr>\n",
       "      <th>0</th>\n",
       "      <td>1986-01-17</td>\n",
       "      <td>10.027295</td>\n",
       "    </tr>\n",
       "    <tr>\n",
       "      <th>1</th>\n",
       "      <td>1986-01-18</td>\n",
       "      <td>10.050219</td>\n",
       "    </tr>\n",
       "    <tr>\n",
       "      <th>2</th>\n",
       "      <td>1986-01-19</td>\n",
       "      <td>10.073791</td>\n",
       "    </tr>\n",
       "    <tr>\n",
       "      <th>3</th>\n",
       "      <td>1986-01-20</td>\n",
       "      <td>10.097994</td>\n",
       "    </tr>\n",
       "    <tr>\n",
       "      <th>4</th>\n",
       "      <td>1986-01-21</td>\n",
       "      <td>10.122811</td>\n",
       "    </tr>\n",
       "  </tbody>\n",
       "</table>\n",
       "</div>"
      ],
      "text/plain": [
       "        date  hours_sunlight\n",
       "0 1986-01-17       10.027295\n",
       "1 1986-01-18       10.050219\n",
       "2 1986-01-19       10.073791\n",
       "3 1986-01-20       10.097994\n",
       "4 1986-01-21       10.122811"
      ]
     },
     "execution_count": 81,
     "metadata": {},
     "output_type": "execute_result"
    }
   ],
   "source": [
    "d.head()"
   ]
  },
  {
   "cell_type": "code",
   "execution_count": 82,
   "id": "41f44f3e",
   "metadata": {},
   "outputs": [
    {
     "name": "stdout",
     "output_type": "stream",
     "text": [
      "<class 'pandas.core.frame.DataFrame'>\n",
      "RangeIndex: 13327 entries, 0 to 13326\n",
      "Data columns (total 2 columns):\n",
      " #   Column          Non-Null Count  Dtype         \n",
      "---  ------          --------------  -----         \n",
      " 0   date            13327 non-null  datetime64[ns]\n",
      " 1   hours_sunlight  13327 non-null  float64       \n",
      "dtypes: datetime64[ns](1), float64(1)\n",
      "memory usage: 208.4 KB\n"
     ]
    }
   ],
   "source": [
    "d.info()"
   ]
  },
  {
   "cell_type": "code",
   "execution_count": 71,
   "id": "bb01688e",
   "metadata": {},
   "outputs": [],
   "source": [
    "t = pd.read_csv('USR0000ATUS.csv', parse_dates=['DATE'])"
   ]
  },
  {
   "cell_type": "code",
   "execution_count": 72,
   "id": "2e810d00",
   "metadata": {},
   "outputs": [
    {
     "data": {
      "text/html": [
       "<div>\n",
       "<style scoped>\n",
       "    .dataframe tbody tr th:only-of-type {\n",
       "        vertical-align: middle;\n",
       "    }\n",
       "\n",
       "    .dataframe tbody tr th {\n",
       "        vertical-align: top;\n",
       "    }\n",
       "\n",
       "    .dataframe thead th {\n",
       "        text-align: right;\n",
       "    }\n",
       "</style>\n",
       "<table border=\"1\" class=\"dataframe\">\n",
       "  <thead>\n",
       "    <tr style=\"text-align: right;\">\n",
       "      <th></th>\n",
       "      <th>STATION</th>\n",
       "      <th>DATE</th>\n",
       "      <th>LATITUDE</th>\n",
       "      <th>LONGITUDE</th>\n",
       "      <th>ELEVATION</th>\n",
       "      <th>NAME</th>\n",
       "      <th>TMAX</th>\n",
       "      <th>TMAX_ATTRIBUTES</th>\n",
       "      <th>TMIN</th>\n",
       "      <th>TMIN_ATTRIBUTES</th>\n",
       "      <th>TAVG</th>\n",
       "      <th>TAVG_ATTRIBUTES</th>\n",
       "    </tr>\n",
       "  </thead>\n",
       "  <tbody>\n",
       "    <tr>\n",
       "      <th>0</th>\n",
       "      <td>USR0000ATUS</td>\n",
       "      <td>1986-01-17</td>\n",
       "      <td>35.99</td>\n",
       "      <td>-112.12</td>\n",
       "      <td>2042.2</td>\n",
       "      <td>TUSAYAN ARIZONA, AZ US</td>\n",
       "      <td>11</td>\n",
       "      <td>H,,U</td>\n",
       "      <td>-33</td>\n",
       "      <td>H,,U</td>\n",
       "      <td>-21</td>\n",
       "      <td>,,U</td>\n",
       "    </tr>\n",
       "    <tr>\n",
       "      <th>1</th>\n",
       "      <td>USR0000ATUS</td>\n",
       "      <td>1986-01-18</td>\n",
       "      <td>35.99</td>\n",
       "      <td>-112.12</td>\n",
       "      <td>2042.2</td>\n",
       "      <td>TUSAYAN ARIZONA, AZ US</td>\n",
       "      <td>100</td>\n",
       "      <td>H,,U</td>\n",
       "      <td>-44</td>\n",
       "      <td>H,,U</td>\n",
       "      <td>-6</td>\n",
       "      <td>,,U</td>\n",
       "    </tr>\n",
       "    <tr>\n",
       "      <th>2</th>\n",
       "      <td>USR0000ATUS</td>\n",
       "      <td>1986-01-19</td>\n",
       "      <td>35.99</td>\n",
       "      <td>-112.12</td>\n",
       "      <td>2042.2</td>\n",
       "      <td>TUSAYAN ARIZONA, AZ US</td>\n",
       "      <td>144</td>\n",
       "      <td>H,,U</td>\n",
       "      <td>-28</td>\n",
       "      <td>H,,U</td>\n",
       "      <td>54</td>\n",
       "      <td>,,U</td>\n",
       "    </tr>\n",
       "    <tr>\n",
       "      <th>3</th>\n",
       "      <td>USR0000ATUS</td>\n",
       "      <td>1986-01-20</td>\n",
       "      <td>35.99</td>\n",
       "      <td>-112.12</td>\n",
       "      <td>2042.2</td>\n",
       "      <td>TUSAYAN ARIZONA, AZ US</td>\n",
       "      <td>117</td>\n",
       "      <td>H,,U</td>\n",
       "      <td>-44</td>\n",
       "      <td>H,,U</td>\n",
       "      <td>-4</td>\n",
       "      <td>,,U</td>\n",
       "    </tr>\n",
       "    <tr>\n",
       "      <th>4</th>\n",
       "      <td>USR0000ATUS</td>\n",
       "      <td>1986-01-21</td>\n",
       "      <td>35.99</td>\n",
       "      <td>-112.12</td>\n",
       "      <td>2042.2</td>\n",
       "      <td>TUSAYAN ARIZONA, AZ US</td>\n",
       "      <td>78</td>\n",
       "      <td>H,,U</td>\n",
       "      <td>-83</td>\n",
       "      <td>H,,U</td>\n",
       "      <td>-34</td>\n",
       "      <td>,,U</td>\n",
       "    </tr>\n",
       "  </tbody>\n",
       "</table>\n",
       "</div>"
      ],
      "text/plain": [
       "       STATION       DATE  LATITUDE  LONGITUDE  ELEVATION  \\\n",
       "0  USR0000ATUS 1986-01-17     35.99    -112.12     2042.2   \n",
       "1  USR0000ATUS 1986-01-18     35.99    -112.12     2042.2   \n",
       "2  USR0000ATUS 1986-01-19     35.99    -112.12     2042.2   \n",
       "3  USR0000ATUS 1986-01-20     35.99    -112.12     2042.2   \n",
       "4  USR0000ATUS 1986-01-21     35.99    -112.12     2042.2   \n",
       "\n",
       "                     NAME  TMAX TMAX_ATTRIBUTES  TMIN TMIN_ATTRIBUTES  TAVG  \\\n",
       "0  TUSAYAN ARIZONA, AZ US    11            H,,U   -33            H,,U   -21   \n",
       "1  TUSAYAN ARIZONA, AZ US   100            H,,U   -44            H,,U    -6   \n",
       "2  TUSAYAN ARIZONA, AZ US   144            H,,U   -28            H,,U    54   \n",
       "3  TUSAYAN ARIZONA, AZ US   117            H,,U   -44            H,,U    -4   \n",
       "4  TUSAYAN ARIZONA, AZ US    78            H,,U   -83            H,,U   -34   \n",
       "\n",
       "  TAVG_ATTRIBUTES  \n",
       "0             ,,U  \n",
       "1             ,,U  \n",
       "2             ,,U  \n",
       "3             ,,U  \n",
       "4             ,,U  "
      ]
     },
     "execution_count": 72,
     "metadata": {},
     "output_type": "execute_result"
    }
   ],
   "source": [
    "t.head()"
   ]
  },
  {
   "cell_type": "code",
   "execution_count": 73,
   "id": "58aaa4f8",
   "metadata": {},
   "outputs": [
    {
     "name": "stdout",
     "output_type": "stream",
     "text": [
      "<class 'pandas.core.frame.DataFrame'>\n",
      "RangeIndex: 13072 entries, 0 to 13071\n",
      "Data columns (total 12 columns):\n",
      " #   Column           Non-Null Count  Dtype         \n",
      "---  ------           --------------  -----         \n",
      " 0   STATION          13072 non-null  object        \n",
      " 1   DATE             13072 non-null  datetime64[ns]\n",
      " 2   LATITUDE         13072 non-null  float64       \n",
      " 3   LONGITUDE        13072 non-null  float64       \n",
      " 4   ELEVATION        13072 non-null  float64       \n",
      " 5   NAME             13072 non-null  object        \n",
      " 6   TMAX             13072 non-null  int64         \n",
      " 7   TMAX_ATTRIBUTES  13072 non-null  object        \n",
      " 8   TMIN             13072 non-null  int64         \n",
      " 9   TMIN_ATTRIBUTES  13072 non-null  object        \n",
      " 10  TAVG             13072 non-null  int64         \n",
      " 11  TAVG_ATTRIBUTES  13072 non-null  object        \n",
      "dtypes: datetime64[ns](1), float64(3), int64(3), object(5)\n",
      "memory usage: 1.2+ MB\n"
     ]
    }
   ],
   "source": [
    "t.info()"
   ]
  },
  {
   "cell_type": "code",
   "execution_count": 87,
   "id": "002558a8",
   "metadata": {},
   "outputs": [
    {
     "data": {
      "text/html": [
       "<div>\n",
       "<style scoped>\n",
       "    .dataframe tbody tr th:only-of-type {\n",
       "        vertical-align: middle;\n",
       "    }\n",
       "\n",
       "    .dataframe tbody tr th {\n",
       "        vertical-align: top;\n",
       "    }\n",
       "\n",
       "    .dataframe thead th {\n",
       "        text-align: right;\n",
       "    }\n",
       "</style>\n",
       "<table border=\"1\" class=\"dataframe\">\n",
       "  <thead>\n",
       "    <tr style=\"text-align: right;\">\n",
       "      <th></th>\n",
       "      <th>hours_sunlight</th>\n",
       "    </tr>\n",
       "    <tr>\n",
       "      <th>date</th>\n",
       "      <th></th>\n",
       "    </tr>\n",
       "  </thead>\n",
       "  <tbody>\n",
       "    <tr>\n",
       "      <th>2020-01-01</th>\n",
       "      <td>9.762376</td>\n",
       "    </tr>\n",
       "    <tr>\n",
       "      <th>2020-01-02</th>\n",
       "      <td>9.772839</td>\n",
       "    </tr>\n",
       "    <tr>\n",
       "      <th>2020-01-03</th>\n",
       "      <td>9.784178</td>\n",
       "    </tr>\n",
       "    <tr>\n",
       "      <th>2020-01-04</th>\n",
       "      <td>9.796382</td>\n",
       "    </tr>\n",
       "    <tr>\n",
       "      <th>2020-01-05</th>\n",
       "      <td>9.809442</td>\n",
       "    </tr>\n",
       "  </tbody>\n",
       "</table>\n",
       "</div>"
      ],
      "text/plain": [
       "            hours_sunlight\n",
       "date                      \n",
       "2020-01-01        9.762376\n",
       "2020-01-02        9.772839\n",
       "2020-01-03        9.784178\n",
       "2020-01-04        9.796382\n",
       "2020-01-05        9.809442"
      ]
     },
     "execution_count": 87,
     "metadata": {},
     "output_type": "execute_result"
    }
   ],
   "source": [
    "# Map all years to 2000 to make the data points coincide.\n",
    "\n",
    "d2 = d.copy()\n",
    "d2['date'] = d2['date'].apply(lambda dt: dt.replace(year=2020))\n",
    "d2 = d2.groupby('date').mean()\n",
    "d2.head()"
   ]
  },
  {
   "cell_type": "code",
   "execution_count": 100,
   "id": "cd72569b",
   "metadata": {},
   "outputs": [
    {
     "data": {
      "text/html": [
       "<div>\n",
       "<style scoped>\n",
       "    .dataframe tbody tr th:only-of-type {\n",
       "        vertical-align: middle;\n",
       "    }\n",
       "\n",
       "    .dataframe tbody tr th {\n",
       "        vertical-align: top;\n",
       "    }\n",
       "\n",
       "    .dataframe thead th {\n",
       "        text-align: right;\n",
       "    }\n",
       "</style>\n",
       "<table border=\"1\" class=\"dataframe\">\n",
       "  <thead>\n",
       "    <tr style=\"text-align: right;\">\n",
       "      <th></th>\n",
       "      <th>TMAX</th>\n",
       "    </tr>\n",
       "    <tr>\n",
       "      <th>date</th>\n",
       "      <th></th>\n",
       "    </tr>\n",
       "  </thead>\n",
       "  <tbody>\n",
       "    <tr>\n",
       "      <th>2020-01-01</th>\n",
       "      <td>6.076471</td>\n",
       "    </tr>\n",
       "    <tr>\n",
       "      <th>2020-01-02</th>\n",
       "      <td>5.950000</td>\n",
       "    </tr>\n",
       "    <tr>\n",
       "      <th>2020-01-03</th>\n",
       "      <td>7.080000</td>\n",
       "    </tr>\n",
       "    <tr>\n",
       "      <th>2020-01-04</th>\n",
       "      <td>7.894286</td>\n",
       "    </tr>\n",
       "    <tr>\n",
       "      <th>2020-01-05</th>\n",
       "      <td>7.142857</td>\n",
       "    </tr>\n",
       "  </tbody>\n",
       "</table>\n",
       "</div>"
      ],
      "text/plain": [
       "                TMAX\n",
       "date                \n",
       "2020-01-01  6.076471\n",
       "2020-01-02  5.950000\n",
       "2020-01-03  7.080000\n",
       "2020-01-04  7.894286\n",
       "2020-01-05  7.142857"
      ]
     },
     "execution_count": 100,
     "metadata": {},
     "output_type": "execute_result"
    }
   ],
   "source": [
    "t2 = t[['DATE', 'TMAX']].copy()\n",
    "t2 = t2.rename(columns={'DATE': 'date'})\n",
    "t2['date'] = t2['date'].apply(lambda dt: dt.replace(year=2020))\n",
    "t2['TMAX'] = t2['TMAX'] / 10.0\n",
    "t2 = t2.groupby('date').mean()\n",
    "t2.head()"
   ]
  },
  {
   "cell_type": "code",
   "execution_count": 101,
   "id": "f2d08775",
   "metadata": {},
   "outputs": [
    {
     "data": {
      "text/html": [
       "<div>\n",
       "<style scoped>\n",
       "    .dataframe tbody tr th:only-of-type {\n",
       "        vertical-align: middle;\n",
       "    }\n",
       "\n",
       "    .dataframe tbody tr th {\n",
       "        vertical-align: top;\n",
       "    }\n",
       "\n",
       "    .dataframe thead th {\n",
       "        text-align: right;\n",
       "    }\n",
       "</style>\n",
       "<table border=\"1\" class=\"dataframe\">\n",
       "  <thead>\n",
       "    <tr style=\"text-align: right;\">\n",
       "      <th></th>\n",
       "      <th>TMAX</th>\n",
       "      <th>hours_sunlight</th>\n",
       "    </tr>\n",
       "    <tr>\n",
       "      <th>date</th>\n",
       "      <th></th>\n",
       "      <th></th>\n",
       "    </tr>\n",
       "  </thead>\n",
       "  <tbody>\n",
       "    <tr>\n",
       "      <th>2020-01-01</th>\n",
       "      <td>6.076471</td>\n",
       "      <td>9.762376</td>\n",
       "    </tr>\n",
       "    <tr>\n",
       "      <th>2020-01-02</th>\n",
       "      <td>5.950000</td>\n",
       "      <td>9.772839</td>\n",
       "    </tr>\n",
       "    <tr>\n",
       "      <th>2020-01-03</th>\n",
       "      <td>7.080000</td>\n",
       "      <td>9.784178</td>\n",
       "    </tr>\n",
       "    <tr>\n",
       "      <th>2020-01-04</th>\n",
       "      <td>7.894286</td>\n",
       "      <td>9.796382</td>\n",
       "    </tr>\n",
       "    <tr>\n",
       "      <th>2020-01-05</th>\n",
       "      <td>7.142857</td>\n",
       "      <td>9.809442</td>\n",
       "    </tr>\n",
       "  </tbody>\n",
       "</table>\n",
       "</div>"
      ],
      "text/plain": [
       "                TMAX  hours_sunlight\n",
       "date                                \n",
       "2020-01-01  6.076471        9.762376\n",
       "2020-01-02  5.950000        9.772839\n",
       "2020-01-03  7.080000        9.784178\n",
       "2020-01-04  7.894286        9.796382\n",
       "2020-01-05  7.142857        9.809442"
      ]
     },
     "execution_count": 101,
     "metadata": {},
     "output_type": "execute_result"
    }
   ],
   "source": [
    "j = t2.join(d2)\n",
    "j.head()"
   ]
  },
  {
   "cell_type": "code",
   "execution_count": 104,
   "id": "5096cd09",
   "metadata": {},
   "outputs": [
    {
     "data": {
      "text/plain": [
       "<matplotlib.axes._subplots.AxesSubplot at 0x7f6a226fc450>"
      ]
     },
     "execution_count": 104,
     "metadata": {},
     "output_type": "execute_result"
    },
    {
     "data": {
      "image/png": "[encoded data removed]",
      "text/plain": [
       "<Figure size 864x360 with 1 Axes>"
      ]
     },
     "metadata": {
      "needs_background": "light"
     },
     "output_type": "display_data"
    }
   ],
   "source": [
    "j.plot.scatter('hours_sunlight', 'TMAX')"
   ]
  },
  {
   "cell_type": "code",
   "execution_count": null,
   "id": "31652678",
   "metadata": {},
   "outputs": [],
   "source": []
  },
  {
   "cell_type": "code",
   "execution_count": null,
   "id": "2a0a43b5",
   "metadata": {},
   "outputs": [],
   "source": []
  },
  {
   "cell_type": "code",
   "execution_count": null,
   "id": "2439e06c",
   "metadata": {},
   "outputs": [],
   "source": []
  },
  {
   "cell_type": "code",
   "execution_count": null,
   "id": "6996e573",
   "metadata": {},
   "outputs": [],
   "source": []
  },
  {
   "cell_type": "code",
   "execution_count": null,
   "id": "a7631ccd",
   "metadata": {},
   "outputs": [],
   "source": []
  }
 ],
 "metadata": {
  "kernelspec": {
   "display_name": "Python 3",
   "language": "python",
   "name": "python3"
  },
  "language_info": {
   "codemirror_mode": {
    "name": "ipython",
    "version": 3
   },
   "file_extension": ".py",
   "mimetype": "text/x-python",
   "name": "python",
   "nbconvert_exporter": "python",
   "pygments_lexer": "ipython3",
   "version": "3.7.7"
  }
 },
 "nbformat": 4,
 "nbformat_minor": 5
}
